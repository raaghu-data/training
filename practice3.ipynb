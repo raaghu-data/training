{
 "cells": [
  {
   "cell_type": "code",
   "execution_count": 0,
   "metadata": {
    "application/vnd.databricks.v1+cell": {
     "cellMetadata": {
      "byteLimit": 2048000,
      "rowLimit": 10000
     },
     "inputWidgets": {},
     "nuid": "81732d74-2a71-47ac-999e-d939b46664f9",
     "showTitle": false,
     "tableResultSettingsMap": {},
     "title": ""
    }
   },
   "outputs": [],
   "source": [
    "from pyspark.sql.functions import *\n",
    "from pyspark.sql.types import *\n",
    "\n",
    "# Sample Sales Data\n",
    "sales_data = [\n",
    "    (1, \"Laptop\", \"Electronics\", 1200.00, 1, \"2024-01-05\", 101, \"Bengaluru\"),\n",
    "    (2, \"Mouse\", \"Electronics\", 25.00, 2, \"2024-01-05\", 101, \"Bengaluru\"),\n",
    "    (3, \"T-Shirt\", \"Apparel\", 20.00, 5, \"2024-01-06\", 102, \"Mumbai\"),\n",
    "    (4, \"Jeans\", \"Apparel\", 60.00, 2, \"2024-01-06\", 103, \"Delhi\"),\n",
    "    (5, \"Monitor\", \"Electronics\", 300.00, 1, \"2024-01-07\", 104, \"Bengaluru\"),\n",
    "    (6, \"Keyboard\", \"Electronics\", 75.00, 1, \"2024-01-07\", 105, \"Chennai\"),\n",
    "    (7, \"Book\", \"Books\", 15.00, 3, \"2024-01-08\", 106, \"Hyderabad\"),\n",
    "    (8, \"Headphones\", \"Electronics\", 150.00, 1, \"2024-01-08\", 107, \"Mumbai\"),\n",
    "    (9, \"Socks\", \"Apparel\", 5.00, 10, \"2024-01-09\", 108, \"Delhi\"),\n",
    "    (10, \"Desk Chair\", \"Furniture\", 200.00, 1, \"2024-01-10\", 109, \"Bengaluru\"),\n",
    "    (11, \"Coffee Maker\", \"Home\", 80.00, 1, \"2024-01-10\", 110, \"Pune\"),\n",
    "    (12, \"External SSD\", \"Electronics\", 90.00, 1, \"2024-01-11\", 101, \"Bengaluru\"),\n",
    "    (13, \"Jacket\", \"Apparel\", 100.00, 1, \"2024-01-11\", 102, \"Mumbai\"),\n",
    "    (14, \"Smartphone\", \"Electronics\", 800.00, 1, \"2024-01-12\", 103, \"Delhi\"),\n",
    "    (15, \"Painting\", \"Art\", 500.00, 1, \"2024-01-12\", 111, \"Bengaluru\")\n",
    "]\n",
    "\n",
    "# Define Schema\n",
    "sales_schema = StructType([\n",
    "    StructField(\"order_id\", IntegerType(), True),\n",
    "    StructField(\"product\", StringType(), True),\n",
    "    StructField(\"category\", StringType(), True),\n",
    "    StructField(\"price\", FloatType(), True),\n",
    "    StructField(\"quantity\", IntegerType(), True),\n",
    "    StructField(\"order_date\", StringType(), True), # Keep as string for now\n",
    "    StructField(\"customer_id\", IntegerType(), True),\n",
    "    StructField(\"city\", StringType(), True)\n",
    "])\n",
    "\n",
    "# Create Spark DataFrame\n",
    "sales_df = spark.createDataFrame(data=sales_data, schema=sales_schema)\n",
    "\n",
    "display(sales_df)"
   ]
  }
 ],
 "metadata": {
  "application/vnd.databricks.v1+notebook": {
   "computePreferences": null,
   "dashboards": [],
   "environmentMetadata": {
    "base_environment": "",
    "environment_version": "2"
   },
   "inputWidgetPreferences": null,
   "language": "python",
   "notebookMetadata": {
    "pythonIndentUnit": 4
   },
   "notebookName": "practice3",
   "widgets": {}
  },
  "language_info": {
   "name": "python"
  }
 },
 "nbformat": 4,
 "nbformat_minor": 0
}
